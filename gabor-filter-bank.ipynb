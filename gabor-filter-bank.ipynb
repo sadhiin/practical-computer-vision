{
 "cells": [
  {
   "cell_type": "code",
   "execution_count": 1,
   "metadata": {
    "collapsed": true,
    "ExecuteTime": {
     "end_time": "2023-08-15T19:13:54.807630200Z",
     "start_time": "2023-08-15T19:13:53.161460200Z"
    }
   },
   "outputs": [],
   "source": [
    "import numpy as np\n",
    "import pandas as pd\n",
    "import cv2"
   ]
  },
  {
   "cell_type": "code",
   "execution_count": 2,
   "outputs": [],
   "source": [
    "img = cv2.imread('DATA/sandstone_data_for_ML/partial_labels_for_traditional_ML/sandstone_partial_labels_from_APEER_ML.tif')\n",
    "# reading the image\n",
    "img = cv2.cvtColor(img, cv2.COLOR_BGR2GRAY)\n",
    "#Here, if you have multichannel image then extract the right channel instead of converting the image to grey.\n"
   ],
   "metadata": {
    "collapsed": false,
    "ExecuteTime": {
     "end_time": "2023-08-15T19:13:55.331341Z",
     "start_time": "2023-08-15T19:13:54.809633900Z"
    }
   }
  },
  {
   "cell_type": "code",
   "execution_count": 3,
   "outputs": [
    {
     "data": {
      "text/plain": "(1024, 996)"
     },
     "execution_count": 3,
     "metadata": {},
     "output_type": "execute_result"
    }
   ],
   "source": [
    "img.shape"
   ],
   "metadata": {
    "collapsed": false,
    "ExecuteTime": {
     "end_time": "2023-08-15T19:13:55.370851700Z",
     "start_time": "2023-08-15T19:13:55.331341Z"
    }
   }
  },
  {
   "cell_type": "code",
   "execution_count": 4,
   "outputs": [],
   "source": [
    "img2 = img.reshape(-1)\n",
    "#Multiple images can be used for training. For that, you need to concatenate the data\n"
   ],
   "metadata": {
    "collapsed": false,
    "ExecuteTime": {
     "end_time": "2023-08-15T19:13:55.504692500Z",
     "start_time": "2023-08-15T19:13:55.364903Z"
    }
   }
  },
  {
   "cell_type": "code",
   "execution_count": 5,
   "outputs": [],
   "source": [
    "#Multiple images can be used for training. For that, you need to concatenate the data\n",
    "\n",
    "#Save original image pixels into a data frame. This is our Feature #1.\n",
    "df = pd.DataFrame()\n",
    "df['original_Image']= img2\n"
   ],
   "metadata": {
    "collapsed": false,
    "ExecuteTime": {
     "end_time": "2023-08-15T19:13:55.526813400Z",
     "start_time": "2023-08-15T19:13:55.378894600Z"
    }
   }
  },
  {
   "cell_type": "code",
   "execution_count": 5,
   "outputs": [],
   "source": [],
   "metadata": {
    "collapsed": false,
    "ExecuteTime": {
     "end_time": "2023-08-15T19:13:55.527820300Z",
     "start_time": "2023-08-15T19:13:55.463803200Z"
    }
   }
  },
  {
   "cell_type": "markdown",
   "source": [
    "## Generating the Gabor-features\n"
   ],
   "metadata": {
    "collapsed": false
   }
  },
  {
   "cell_type": "code",
   "execution_count": 6,
   "outputs": [
    {
     "name": "stdout",
     "output_type": "stream",
     "text": [
      "gabor-1 : theta= 0.0 : sigma= 1 : lamda= 0.0 : gamma= 0.05\n",
      "gabor-2 : theta= 0.0 : sigma= 1 : lamda= 0.0 : gamma= 0.5\n",
      "gabor-3 : theta= 0.0 : sigma= 1 : lamda= 0.7853981633974483 : gamma= 0.05\n",
      "gabor-4 : theta= 0.0 : sigma= 1 : lamda= 0.7853981633974483 : gamma= 0.5\n",
      "gabor-5 : theta= 0.0 : sigma= 1 : lamda= 1.5707963267948966 : gamma= 0.05\n",
      "gabor-6 : theta= 0.0 : sigma= 1 : lamda= 1.5707963267948966 : gamma= 0.5\n",
      "gabor-7 : theta= 0.0 : sigma= 1 : lamda= 2.356194490192345 : gamma= 0.05\n",
      "gabor-8 : theta= 0.0 : sigma= 1 : lamda= 2.356194490192345 : gamma= 0.5\n",
      "gabor-9 : theta= 0.0 : sigma= 3 : lamda= 0.0 : gamma= 0.05\n",
      "gabor-10 : theta= 0.0 : sigma= 3 : lamda= 0.0 : gamma= 0.5\n",
      "gabor-11 : theta= 0.0 : sigma= 3 : lamda= 0.7853981633974483 : gamma= 0.05\n",
      "gabor-12 : theta= 0.0 : sigma= 3 : lamda= 0.7853981633974483 : gamma= 0.5\n",
      "gabor-13 : theta= 0.0 : sigma= 3 : lamda= 1.5707963267948966 : gamma= 0.05\n",
      "gabor-14 : theta= 0.0 : sigma= 3 : lamda= 1.5707963267948966 : gamma= 0.5\n",
      "gabor-15 : theta= 0.0 : sigma= 3 : lamda= 2.356194490192345 : gamma= 0.05\n",
      "gabor-16 : theta= 0.0 : sigma= 3 : lamda= 2.356194490192345 : gamma= 0.5\n",
      "gabor-17 : theta= 0.7853981633974483 : sigma= 1 : lamda= 0.0 : gamma= 0.05\n",
      "gabor-18 : theta= 0.7853981633974483 : sigma= 1 : lamda= 0.0 : gamma= 0.5\n",
      "gabor-19 : theta= 0.7853981633974483 : sigma= 1 : lamda= 0.7853981633974483 : gamma= 0.05\n",
      "gabor-20 : theta= 0.7853981633974483 : sigma= 1 : lamda= 0.7853981633974483 : gamma= 0.5\n",
      "gabor-21 : theta= 0.7853981633974483 : sigma= 1 : lamda= 1.5707963267948966 : gamma= 0.05\n",
      "gabor-22 : theta= 0.7853981633974483 : sigma= 1 : lamda= 1.5707963267948966 : gamma= 0.5\n",
      "gabor-23 : theta= 0.7853981633974483 : sigma= 1 : lamda= 2.356194490192345 : gamma= 0.05\n",
      "gabor-24 : theta= 0.7853981633974483 : sigma= 1 : lamda= 2.356194490192345 : gamma= 0.5\n",
      "gabor-25 : theta= 0.7853981633974483 : sigma= 3 : lamda= 0.0 : gamma= 0.05\n",
      "gabor-26 : theta= 0.7853981633974483 : sigma= 3 : lamda= 0.0 : gamma= 0.5\n",
      "gabor-27 : theta= 0.7853981633974483 : sigma= 3 : lamda= 0.7853981633974483 : gamma= 0.05\n",
      "gabor-28 : theta= 0.7853981633974483 : sigma= 3 : lamda= 0.7853981633974483 : gamma= 0.5\n",
      "gabor-29 : theta= 0.7853981633974483 : sigma= 3 : lamda= 1.5707963267948966 : gamma= 0.05\n",
      "gabor-30 : theta= 0.7853981633974483 : sigma= 3 : lamda= 1.5707963267948966 : gamma= 0.5\n",
      "gabor-31 : theta= 0.7853981633974483 : sigma= 3 : lamda= 2.356194490192345 : gamma= 0.05\n",
      "gabor-32 : theta= 0.7853981633974483 : sigma= 3 : lamda= 2.356194490192345 : gamma= 0.5\n"
     ]
    }
   ],
   "source": [
    "cnt = 1\n",
    "kernels = []  #Create empty list to hold all kernels that we will generate in a loop\n",
    "\n",
    "for theta in range(2):      #Define number of thetas. Here only 2 theta values 0 and 1/4 . pi\n",
    "    theta = theta/ 4. * np.pi\n",
    "    for sigma in (1,3):     #Sigma with values of 1 and 3\n",
    "        for Lamda in np.arange(0, np.pi, np.pi/4):   #Range of wavelengths\n",
    "            for gamma in (0.05, 0.5):     #Gamma values of 0.05 and 0.5\n",
    "                label = \"gabor-\"+str(cnt)\n",
    "                cnt+=1\n",
    "                ksize = 9\n",
    "                kernal = cv2.getGaborKernel((ksize,ksize), sigma, theta, Lamda, gamma, 0, ktype=cv2.CV_32F)\n",
    "\n",
    "                kernels.append(kernal)\n",
    "                fimg = cv2.filter2D(img2, cv2.CV_8UC3, kernal)\n",
    "                filtered_img = fimg.reshape(-1)\n",
    "                df[label] = filtered_img\n",
    "                print(label,': theta=', theta, ': sigma=', sigma, ': lamda=', Lamda, ': gamma=', gamma)\n",
    "\n",
    "\n"
   ],
   "metadata": {
    "collapsed": false,
    "ExecuteTime": {
     "end_time": "2023-08-15T19:14:02.762744700Z",
     "start_time": "2023-08-15T19:13:55.494608800Z"
    }
   }
  },
  {
   "cell_type": "code",
   "execution_count": 7,
   "outputs": [
    {
     "data": {
      "text/plain": "         original_Image  gabor-1  gabor-2  gabor-3  gabor-4  gabor-5  gabor-6  \\\n434863                0        0        0        0        0        0        0   \n361126                0        0        0        0        0        0        0   \n43116                 0        0        0        0        0        0        0   \n497507                0        0        0        0        0        0        0   \n229765                1        0        0        3        2        1        1   \n142387                0        0        0        0        0        0        0   \n724673                0        0        0        0        0        0        0   \n573897                0        0        0        0        0        0        0   \n1010739               0        0        0        0        0        0        0   \n611083                0        0        0        0        0        0        0   \n\n         gabor-7  gabor-8  gabor-9  ...  gabor-23  gabor-24  gabor-25  \\\n434863         0        0        0  ...         0         0         0   \n361126         0        0        0  ...         0         0         0   \n43116          0        0        0  ...         0         0         0   \n497507         0        0        0  ...         0         0         0   \n229765         0        0        0  ...         1         0         0   \n142387         0        0        0  ...         0         0         0   \n724673         0        0        0  ...         0         0         0   \n573897         0        0        0  ...         0         0         0   \n1010739        0        0        0  ...         0         0         0   \n611083         0        0        0  ...         0         0         0   \n\n         gabor-26  gabor-27  gabor-28  gabor-29  gabor-30  gabor-31  gabor-32  \n434863          0         0         0         0         0         0         0  \n361126          0         0         0         0         0         0         0  \n43116           0         0         0         0         0         0         0  \n497507          0         0         0         0         0         0         0  \n229765          0         7         5         0         0         1         1  \n142387          0         0         0         0         0         0         0  \n724673          0         0         0         0         0         0         0  \n573897          0         0         0         0         0         0         0  \n1010739         0         0         0         0         0         0         0  \n611083          0         0         0         0         0         0         0  \n\n[10 rows x 33 columns]",
      "text/html": "<div>\n<style scoped>\n    .dataframe tbody tr th:only-of-type {\n        vertical-align: middle;\n    }\n\n    .dataframe tbody tr th {\n        vertical-align: top;\n    }\n\n    .dataframe thead th {\n        text-align: right;\n    }\n</style>\n<table border=\"1\" class=\"dataframe\">\n  <thead>\n    <tr style=\"text-align: right;\">\n      <th></th>\n      <th>original_Image</th>\n      <th>gabor-1</th>\n      <th>gabor-2</th>\n      <th>gabor-3</th>\n      <th>gabor-4</th>\n      <th>gabor-5</th>\n      <th>gabor-6</th>\n      <th>gabor-7</th>\n      <th>gabor-8</th>\n      <th>gabor-9</th>\n      <th>...</th>\n      <th>gabor-23</th>\n      <th>gabor-24</th>\n      <th>gabor-25</th>\n      <th>gabor-26</th>\n      <th>gabor-27</th>\n      <th>gabor-28</th>\n      <th>gabor-29</th>\n      <th>gabor-30</th>\n      <th>gabor-31</th>\n      <th>gabor-32</th>\n    </tr>\n  </thead>\n  <tbody>\n    <tr>\n      <th>434863</th>\n      <td>0</td>\n      <td>0</td>\n      <td>0</td>\n      <td>0</td>\n      <td>0</td>\n      <td>0</td>\n      <td>0</td>\n      <td>0</td>\n      <td>0</td>\n      <td>0</td>\n      <td>...</td>\n      <td>0</td>\n      <td>0</td>\n      <td>0</td>\n      <td>0</td>\n      <td>0</td>\n      <td>0</td>\n      <td>0</td>\n      <td>0</td>\n      <td>0</td>\n      <td>0</td>\n    </tr>\n    <tr>\n      <th>361126</th>\n      <td>0</td>\n      <td>0</td>\n      <td>0</td>\n      <td>0</td>\n      <td>0</td>\n      <td>0</td>\n      <td>0</td>\n      <td>0</td>\n      <td>0</td>\n      <td>0</td>\n      <td>...</td>\n      <td>0</td>\n      <td>0</td>\n      <td>0</td>\n      <td>0</td>\n      <td>0</td>\n      <td>0</td>\n      <td>0</td>\n      <td>0</td>\n      <td>0</td>\n      <td>0</td>\n    </tr>\n    <tr>\n      <th>43116</th>\n      <td>0</td>\n      <td>0</td>\n      <td>0</td>\n      <td>0</td>\n      <td>0</td>\n      <td>0</td>\n      <td>0</td>\n      <td>0</td>\n      <td>0</td>\n      <td>0</td>\n      <td>...</td>\n      <td>0</td>\n      <td>0</td>\n      <td>0</td>\n      <td>0</td>\n      <td>0</td>\n      <td>0</td>\n      <td>0</td>\n      <td>0</td>\n      <td>0</td>\n      <td>0</td>\n    </tr>\n    <tr>\n      <th>497507</th>\n      <td>0</td>\n      <td>0</td>\n      <td>0</td>\n      <td>0</td>\n      <td>0</td>\n      <td>0</td>\n      <td>0</td>\n      <td>0</td>\n      <td>0</td>\n      <td>0</td>\n      <td>...</td>\n      <td>0</td>\n      <td>0</td>\n      <td>0</td>\n      <td>0</td>\n      <td>0</td>\n      <td>0</td>\n      <td>0</td>\n      <td>0</td>\n      <td>0</td>\n      <td>0</td>\n    </tr>\n    <tr>\n      <th>229765</th>\n      <td>1</td>\n      <td>0</td>\n      <td>0</td>\n      <td>3</td>\n      <td>2</td>\n      <td>1</td>\n      <td>1</td>\n      <td>0</td>\n      <td>0</td>\n      <td>0</td>\n      <td>...</td>\n      <td>1</td>\n      <td>0</td>\n      <td>0</td>\n      <td>0</td>\n      <td>7</td>\n      <td>5</td>\n      <td>0</td>\n      <td>0</td>\n      <td>1</td>\n      <td>1</td>\n    </tr>\n    <tr>\n      <th>142387</th>\n      <td>0</td>\n      <td>0</td>\n      <td>0</td>\n      <td>0</td>\n      <td>0</td>\n      <td>0</td>\n      <td>0</td>\n      <td>0</td>\n      <td>0</td>\n      <td>0</td>\n      <td>...</td>\n      <td>0</td>\n      <td>0</td>\n      <td>0</td>\n      <td>0</td>\n      <td>0</td>\n      <td>0</td>\n      <td>0</td>\n      <td>0</td>\n      <td>0</td>\n      <td>0</td>\n    </tr>\n    <tr>\n      <th>724673</th>\n      <td>0</td>\n      <td>0</td>\n      <td>0</td>\n      <td>0</td>\n      <td>0</td>\n      <td>0</td>\n      <td>0</td>\n      <td>0</td>\n      <td>0</td>\n      <td>0</td>\n      <td>...</td>\n      <td>0</td>\n      <td>0</td>\n      <td>0</td>\n      <td>0</td>\n      <td>0</td>\n      <td>0</td>\n      <td>0</td>\n      <td>0</td>\n      <td>0</td>\n      <td>0</td>\n    </tr>\n    <tr>\n      <th>573897</th>\n      <td>0</td>\n      <td>0</td>\n      <td>0</td>\n      <td>0</td>\n      <td>0</td>\n      <td>0</td>\n      <td>0</td>\n      <td>0</td>\n      <td>0</td>\n      <td>0</td>\n      <td>...</td>\n      <td>0</td>\n      <td>0</td>\n      <td>0</td>\n      <td>0</td>\n      <td>0</td>\n      <td>0</td>\n      <td>0</td>\n      <td>0</td>\n      <td>0</td>\n      <td>0</td>\n    </tr>\n    <tr>\n      <th>1010739</th>\n      <td>0</td>\n      <td>0</td>\n      <td>0</td>\n      <td>0</td>\n      <td>0</td>\n      <td>0</td>\n      <td>0</td>\n      <td>0</td>\n      <td>0</td>\n      <td>0</td>\n      <td>...</td>\n      <td>0</td>\n      <td>0</td>\n      <td>0</td>\n      <td>0</td>\n      <td>0</td>\n      <td>0</td>\n      <td>0</td>\n      <td>0</td>\n      <td>0</td>\n      <td>0</td>\n    </tr>\n    <tr>\n      <th>611083</th>\n      <td>0</td>\n      <td>0</td>\n      <td>0</td>\n      <td>0</td>\n      <td>0</td>\n      <td>0</td>\n      <td>0</td>\n      <td>0</td>\n      <td>0</td>\n      <td>0</td>\n      <td>...</td>\n      <td>0</td>\n      <td>0</td>\n      <td>0</td>\n      <td>0</td>\n      <td>0</td>\n      <td>0</td>\n      <td>0</td>\n      <td>0</td>\n      <td>0</td>\n      <td>0</td>\n    </tr>\n  </tbody>\n</table>\n<p>10 rows × 33 columns</p>\n</div>"
     },
     "execution_count": 7,
     "metadata": {},
     "output_type": "execute_result"
    }
   ],
   "source": [
    "df.sample(10)"
   ],
   "metadata": {
    "collapsed": false,
    "ExecuteTime": {
     "end_time": "2023-08-15T19:14:02.877984400Z",
     "start_time": "2023-08-15T19:14:02.773872800Z"
    }
   }
  },
  {
   "cell_type": "code",
   "execution_count": 8,
   "outputs": [
    {
     "data": {
      "text/plain": "(1019904, 33)"
     },
     "execution_count": 8,
     "metadata": {},
     "output_type": "execute_result"
    }
   ],
   "source": [
    "df.shape"
   ],
   "metadata": {
    "collapsed": false,
    "ExecuteTime": {
     "end_time": "2023-08-15T19:14:02.990997800Z",
     "start_time": "2023-08-15T19:14:02.880568800Z"
    }
   }
  },
  {
   "cell_type": "code",
   "execution_count": 9,
   "outputs": [
    {
     "name": "stdout",
     "output_type": "stream",
     "text": [
      "<class 'pandas.core.frame.DataFrame'>\n",
      "RangeIndex: 1019904 entries, 0 to 1019903\n",
      "Data columns (total 33 columns):\n",
      " #   Column          Non-Null Count    Dtype\n",
      "---  ------          --------------    -----\n",
      " 0   original_Image  1019904 non-null  uint8\n",
      " 1   gabor-1         1019904 non-null  uint8\n",
      " 2   gabor-2         1019904 non-null  uint8\n",
      " 3   gabor-3         1019904 non-null  uint8\n",
      " 4   gabor-4         1019904 non-null  uint8\n",
      " 5   gabor-5         1019904 non-null  uint8\n",
      " 6   gabor-6         1019904 non-null  uint8\n",
      " 7   gabor-7         1019904 non-null  uint8\n",
      " 8   gabor-8         1019904 non-null  uint8\n",
      " 9   gabor-9         1019904 non-null  uint8\n",
      " 10  gabor-10        1019904 non-null  uint8\n",
      " 11  gabor-11        1019904 non-null  uint8\n",
      " 12  gabor-12        1019904 non-null  uint8\n",
      " 13  gabor-13        1019904 non-null  uint8\n",
      " 14  gabor-14        1019904 non-null  uint8\n",
      " 15  gabor-15        1019904 non-null  uint8\n",
      " 16  gabor-16        1019904 non-null  uint8\n",
      " 17  gabor-17        1019904 non-null  uint8\n",
      " 18  gabor-18        1019904 non-null  uint8\n",
      " 19  gabor-19        1019904 non-null  uint8\n",
      " 20  gabor-20        1019904 non-null  uint8\n",
      " 21  gabor-21        1019904 non-null  uint8\n",
      " 22  gabor-22        1019904 non-null  uint8\n",
      " 23  gabor-23        1019904 non-null  uint8\n",
      " 24  gabor-24        1019904 non-null  uint8\n",
      " 25  gabor-25        1019904 non-null  uint8\n",
      " 26  gabor-26        1019904 non-null  uint8\n",
      " 27  gabor-27        1019904 non-null  uint8\n",
      " 28  gabor-28        1019904 non-null  uint8\n",
      " 29  gabor-29        1019904 non-null  uint8\n",
      " 30  gabor-30        1019904 non-null  uint8\n",
      " 31  gabor-31        1019904 non-null  uint8\n",
      " 32  gabor-32        1019904 non-null  uint8\n",
      "dtypes: uint8(33)\n",
      "memory usage: 32.1 MB\n"
     ]
    }
   ],
   "source": [
    "df.info()"
   ],
   "metadata": {
    "collapsed": false,
    "ExecuteTime": {
     "end_time": "2023-08-15T19:14:03.394668200Z",
     "start_time": "2023-08-15T19:14:02.894845700Z"
    }
   }
  },
  {
   "cell_type": "code",
   "execution_count": 11,
   "outputs": [],
   "source": [
    "df.to_csv(\"OUTPUT/Gabor.csv\")\n"
   ],
   "metadata": {
    "collapsed": false,
    "ExecuteTime": {
     "end_time": "2023-08-15T19:14:36.628833200Z",
     "start_time": "2023-08-15T19:14:27.591923300Z"
    }
   }
  },
  {
   "cell_type": "code",
   "execution_count": 10,
   "outputs": [],
   "source": [],
   "metadata": {
    "collapsed": false,
    "ExecuteTime": {
     "end_time": "2023-08-15T19:14:10.398544200Z",
     "start_time": "2023-08-15T19:14:10.382680500Z"
    }
   }
  },
  {
   "cell_type": "code",
   "execution_count": 10,
   "outputs": [],
   "source": [],
   "metadata": {
    "collapsed": false,
    "ExecuteTime": {
     "end_time": "2023-08-15T19:14:10.453767900Z",
     "start_time": "2023-08-15T19:14:10.400538700Z"
    }
   }
  },
  {
   "cell_type": "code",
   "execution_count": 10,
   "outputs": [],
   "source": [],
   "metadata": {
    "collapsed": false,
    "ExecuteTime": {
     "end_time": "2023-08-15T19:14:10.461692900Z",
     "start_time": "2023-08-15T19:14:10.418836300Z"
    }
   }
  },
  {
   "cell_type": "markdown",
   "source": [],
   "metadata": {
    "collapsed": false
   }
  }
 ],
 "metadata": {
  "kernelspec": {
   "display_name": "Python 3",
   "language": "python",
   "name": "python3"
  },
  "language_info": {
   "codemirror_mode": {
    "name": "ipython",
    "version": 2
   },
   "file_extension": ".py",
   "mimetype": "text/x-python",
   "name": "python",
   "nbconvert_exporter": "python",
   "pygments_lexer": "ipython2",
   "version": "2.7.6"
  }
 },
 "nbformat": 4,
 "nbformat_minor": 0
}
